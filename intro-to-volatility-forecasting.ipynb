{
 "cells": [
  {
   "cell_type": "markdown",
   "id": "4e6fb373",
   "metadata": {
    "papermill": {
     "duration": 0.006406,
     "end_time": "2024-12-01T15:56:05.248789",
     "exception": false,
     "start_time": "2024-12-01T15:56:05.242383",
     "status": "completed"
    },
    "tags": []
   },
   "source": [
    "# Intro to Volatility Forecasting (With the S&P500!)\n",
    "\n",
    "\n",
    "### Contents\n",
    "1. [Motivation](#chapter1)\n",
    "2. [Variance at Risk (VaR)](#chapter2)\n",
    "3. [Expected Shortfall (ES)](#chapter3)\n",
    "4. [Univariate Volatility Models](#chapter4)  \n",
    "   4.1 [Moving Average (MA)](#subsec1)  \n",
    "   4.2 [Exponentially Weighted Moving Average (EWMA)](#subsec2)  \n",
    "   4.3 [Autoregressive Conditional Heteroskedasticity (ARCH)](#subsec3)  \n",
    "   4.4 [Generalized Autoregressive Conditional Heteroskedasticity (GARCH)](#subsec4)"
   ]
  },
  {
   "cell_type": "markdown",
   "id": "1e6035a3",
   "metadata": {
    "papermill": {
     "duration": 0.005361,
     "end_time": "2024-12-01T15:56:05.259914",
     "exception": false,
     "start_time": "2024-12-01T15:56:05.254553",
     "status": "completed"
    },
    "tags": []
   },
   "source": [
    "## 1. Motivation <a class = \"anchor\" id = \"chapter1\"></a>\n",
    "\n",
    "When accounting for random processes, it is often where just the point estimate of the forecasted values are predicted. However, knowing the potential distribution around that estimate could provide crucial information such as probability of a loss in a portfolio, as will be examined in this notebook. As an example I will be going over forecasting variance for an S&P500 etf using closing data from 2020-01-01 to 2024-11-30."
   ]
  },
  {
   "cell_type": "code",
   "execution_count": 1,
   "id": "45bcb847",
   "metadata": {
    "execution": {
     "iopub.execute_input": "2024-12-01T15:56:05.273035Z",
     "iopub.status.busy": "2024-12-01T15:56:05.272658Z",
     "iopub.status.idle": "2024-12-01T15:56:06.132552Z",
     "shell.execute_reply": "2024-12-01T15:56:06.131545Z"
    },
    "papermill": {
     "duration": 0.869979,
     "end_time": "2024-12-01T15:56:06.135376",
     "exception": false,
     "start_time": "2024-12-01T15:56:05.265397",
     "status": "completed"
    },
    "tags": []
   },
   "outputs": [],
   "source": [
    "# imports\n",
    "import pandas as pd\n",
    "import matplotlib.pyplot as plt"
   ]
  },
  {
   "cell_type": "code",
   "execution_count": 2,
   "id": "18b50e8f",
   "metadata": {
    "execution": {
     "iopub.execute_input": "2024-12-01T15:56:06.149310Z",
     "iopub.status.busy": "2024-12-01T15:56:06.148775Z",
     "iopub.status.idle": "2024-12-01T15:56:06.202189Z",
     "shell.execute_reply": "2024-12-01T15:56:06.201101Z"
    },
    "papermill": {
     "duration": 0.063156,
     "end_time": "2024-12-01T15:56:06.204771",
     "exception": false,
     "start_time": "2024-12-01T15:56:06.141615",
     "status": "completed"
    },
    "tags": []
   },
   "outputs": [],
   "source": [
    "df = pd.read_csv(\"/kaggle/input/s-and-p500-etf-data-2020-01-01-to-2024-11-30/spy-data.csv\")\n",
    "df[\"Date\"] = pd.to_datetime(df[\"Date\"], format=\"%Y-%m-%d\")\n",
    "df[\"SPY\"] = df[\"SPY\"].pct_change()\n",
    "df[\"SPY\"] = df[\"SPY\"].apply(lambda x: x*100)\n",
    "df.dropna(inplace=True)"
   ]
  },
  {
   "cell_type": "code",
   "execution_count": 3,
   "id": "84d68adf",
   "metadata": {
    "execution": {
     "iopub.execute_input": "2024-12-01T15:56:06.219695Z",
     "iopub.status.busy": "2024-12-01T15:56:06.218349Z",
     "iopub.status.idle": "2024-12-01T15:56:06.235175Z",
     "shell.execute_reply": "2024-12-01T15:56:06.233999Z"
    },
    "papermill": {
     "duration": 0.026778,
     "end_time": "2024-12-01T15:56:06.237633",
     "exception": false,
     "start_time": "2024-12-01T15:56:06.210855",
     "status": "completed"
    },
    "tags": []
   },
   "outputs": [
    {
     "data": {
      "text/html": [
       "<div>\n",
       "<style scoped>\n",
       "    .dataframe tbody tr th:only-of-type {\n",
       "        vertical-align: middle;\n",
       "    }\n",
       "\n",
       "    .dataframe tbody tr th {\n",
       "        vertical-align: top;\n",
       "    }\n",
       "\n",
       "    .dataframe thead th {\n",
       "        text-align: right;\n",
       "    }\n",
       "</style>\n",
       "<table border=\"1\" class=\"dataframe\">\n",
       "  <thead>\n",
       "    <tr style=\"text-align: right;\">\n",
       "      <th></th>\n",
       "      <th>Date</th>\n",
       "      <th>SPY</th>\n",
       "    </tr>\n",
       "  </thead>\n",
       "  <tbody>\n",
       "    <tr>\n",
       "      <th>1</th>\n",
       "      <td>2020-01-03</td>\n",
       "      <td>-0.757212</td>\n",
       "    </tr>\n",
       "    <tr>\n",
       "      <th>2</th>\n",
       "      <td>2020-01-06</td>\n",
       "      <td>0.381480</td>\n",
       "    </tr>\n",
       "    <tr>\n",
       "      <th>3</th>\n",
       "      <td>2020-01-07</td>\n",
       "      <td>-0.281158</td>\n",
       "    </tr>\n",
       "    <tr>\n",
       "      <th>4</th>\n",
       "      <td>2020-01-08</td>\n",
       "      <td>0.532938</td>\n",
       "    </tr>\n",
       "    <tr>\n",
       "      <th>5</th>\n",
       "      <td>2020-01-09</td>\n",
       "      <td>0.678081</td>\n",
       "    </tr>\n",
       "  </tbody>\n",
       "</table>\n",
       "</div>"
      ],
      "text/plain": [
       "        Date       SPY\n",
       "1 2020-01-03 -0.757212\n",
       "2 2020-01-06  0.381480\n",
       "3 2020-01-07 -0.281158\n",
       "4 2020-01-08  0.532938\n",
       "5 2020-01-09  0.678081"
      ]
     },
     "execution_count": 3,
     "metadata": {},
     "output_type": "execute_result"
    }
   ],
   "source": [
    "df.head()"
   ]
  },
  {
   "cell_type": "markdown",
   "id": "e6a77834",
   "metadata": {
    "papermill": {
     "duration": 0.006301,
     "end_time": "2024-12-01T15:56:06.250381",
     "exception": false,
     "start_time": "2024-12-01T15:56:06.244080",
     "status": "completed"
    },
    "tags": []
   },
   "source": [
    "## 2. Variance at Risk (VaR) <a class = \"anchor\" id = \"chapter2\"></a>  \n",
    "\n",
    "**Value at Risk (VaR):** The value at risk is at what quantity will your portfolio be in the $\\alpha$ percentile.  \n",
    "$r_t^{VaR(\\alpha)}$ is the value at which $P(r_t <= r_t^{VaR(\\alpha)} = \\alpha)$\n",
    "  \n",
    "Eg. We wish to see how much a portfolio of \\\\$10,000 in SPY will return tomorrow. But we also want to make sure that our portfolio might not lose all our money. Therefore, just to be safe, we evaluate the value the portfolio has a 95\\% chance of returning higher than tomorrow. This essentially says, what is the value at risk of a portfolio invested SPY given $\\alpha = 0.05$"
   ]
  },
  {
   "cell_type": "code",
   "execution_count": 4,
   "id": "17733a8d",
   "metadata": {
    "execution": {
     "iopub.execute_input": "2024-12-01T15:56:06.264829Z",
     "iopub.status.busy": "2024-12-01T15:56:06.264449Z",
     "iopub.status.idle": "2024-12-01T15:56:07.250074Z",
     "shell.execute_reply": "2024-12-01T15:56:07.248949Z"
    },
    "papermill": {
     "duration": 0.995989,
     "end_time": "2024-12-01T15:56:07.252778",
     "exception": false,
     "start_time": "2024-12-01T15:56:06.256789",
     "status": "completed"
    },
    "tags": []
   },
   "outputs": [],
   "source": [
    "# more imports\n",
    "from scipy.stats import norm"
   ]
  },
  {
   "cell_type": "code",
   "execution_count": 5,
   "id": "b388c15e",
   "metadata": {
    "execution": {
     "iopub.execute_input": "2024-12-01T15:56:07.267690Z",
     "iopub.status.busy": "2024-12-01T15:56:07.267296Z",
     "iopub.status.idle": "2024-12-01T15:56:07.273008Z",
     "shell.execute_reply": "2024-12-01T15:56:07.271919Z"
    },
    "papermill": {
     "duration": 0.01597,
     "end_time": "2024-12-01T15:56:07.275113",
     "exception": false,
     "start_time": "2024-12-01T15:56:07.259143",
     "status": "completed"
    },
    "tags": []
   },
   "outputs": [],
   "source": [
    "def var(sigma, mu, alpha):\n",
    "    # assuming normal distribution here for easier computations\n",
    "    z_value = norm.ppf(alpha)\n",
    "    return mu + z_value * sigma"
   ]
  },
  {
   "cell_type": "markdown",
   "id": "c311e781",
   "metadata": {
    "papermill": {
     "duration": 0.005692,
     "end_time": "2024-12-01T15:56:07.286696",
     "exception": false,
     "start_time": "2024-12-01T15:56:07.281004",
     "status": "completed"
    },
    "tags": []
   },
   "source": [
    "This implementation is a very simple calculation of Value at Risk using the standard deviation of the variable in the past data as sigma and using the average of variable in the past data as mu. In actuality, the implementation will use some sort of mean and variance model (see below)."
   ]
  },
  {
   "cell_type": "code",
   "execution_count": 6,
   "id": "91a97319",
   "metadata": {
    "execution": {
     "iopub.execute_input": "2024-12-01T15:56:07.300146Z",
     "iopub.status.busy": "2024-12-01T15:56:07.299787Z",
     "iopub.status.idle": "2024-12-01T15:56:07.312280Z",
     "shell.execute_reply": "2024-12-01T15:56:07.311020Z"
    },
    "papermill": {
     "duration": 0.021912,
     "end_time": "2024-12-01T15:56:07.314522",
     "exception": false,
     "start_time": "2024-12-01T15:56:07.292610",
     "status": "completed"
    },
    "tags": []
   },
   "outputs": [
    {
     "data": {
      "text/plain": [
       "-2.120907987267147"
      ]
     },
     "execution_count": 6,
     "metadata": {},
     "output_type": "execute_result"
    }
   ],
   "source": [
    "# implementing with the example\n",
    "alpha = 0.05\n",
    "\n",
    "std = df[\"SPY\"].std()\n",
    "mean = df[\"SPY\"].mean()\n",
    "\n",
    "value_at_risk_1_day = var(std, mean, alpha)\n",
    "value_at_risk_1_day"
   ]
  },
  {
   "cell_type": "markdown",
   "id": "fc399905",
   "metadata": {
    "papermill": {
     "duration": 0.006303,
     "end_time": "2024-12-01T15:56:07.327199",
     "exception": false,
     "start_time": "2024-12-01T15:56:07.320896",
     "status": "completed"
    },
    "tags": []
   },
   "source": [
    "So this means that our portfolio invested entirely in the SPY etf will have a 95% chance of returning more than -2.12% tomrrow using this very simple model."
   ]
  },
  {
   "cell_type": "markdown",
   "id": "f2442ced",
   "metadata": {
    "papermill": {
     "duration": 0.005542,
     "end_time": "2024-12-01T15:56:07.338724",
     "exception": false,
     "start_time": "2024-12-01T15:56:07.333182",
     "status": "completed"
    },
    "tags": []
   },
   "source": [
    "## 3. Expected Shortfall <a class = \"anchor\" id = \"chapter3\"></a>\n",
    "\n",
    "**Expected Shortfall:** On average how much can we expect to lose beyond the value at risk.   \n",
    "Mathematicall it is:  \n",
    "$$ES(\\alpha) = E[r_t|r_t < r_t^{VaR(\\alpha)}]$$\n",
    "For a the standard normally distributed random variable $z_t$\n",
    "$$E[z_t|z_t < z_a] = \\frac{1}{\\alpha \\sqrt{2\\pi}}exp(-z^2_{\\alpha}/2)$$\n",
    "Since $$z_t  = \\frac{r_t - \\mu_{t|t-1}}{\\sigma_{t|t-1}}$$\n",
    "We get\n",
    "$$r_t^{ES(\\alpha)} = \\mu_{t|t-1}+z_t * \\sigma_{t|t-1}$$\n",
    "\n",
    "The value $\\mu$ is forecasted using a mean model and the value for $\\sigma$ is forecasted using a volatility model.  \n",
    "  \n",
    "Alone, value at risk only tells the upper bound for how much we might lose but not the actual amount we might lose if we somehow found ourselves in a situation significantly underperforming. The expected shortfall is essentially an average for a worst case scenario of what we might lose.  \n",
    "\n",
    "Following our example, if we wanted to investigate the Expected Shortfall, we will be asking the question: if the S&P500 ETF SPY performed worse than it does 95% of the time, what loss can we expect?"
   ]
  },
  {
   "cell_type": "code",
   "execution_count": 7,
   "id": "a7877c48",
   "metadata": {
    "execution": {
     "iopub.execute_input": "2024-12-01T15:56:07.352464Z",
     "iopub.status.busy": "2024-12-01T15:56:07.351671Z",
     "iopub.status.idle": "2024-12-01T15:56:07.356651Z",
     "shell.execute_reply": "2024-12-01T15:56:07.355632Z"
    },
    "papermill": {
     "duration": 0.014061,
     "end_time": "2024-12-01T15:56:07.358513",
     "exception": false,
     "start_time": "2024-12-01T15:56:07.344452",
     "status": "completed"
    },
    "tags": []
   },
   "outputs": [],
   "source": [
    "import numpy as np"
   ]
  },
  {
   "cell_type": "code",
   "execution_count": 8,
   "id": "a291a555",
   "metadata": {
    "execution": {
     "iopub.execute_input": "2024-12-01T15:56:07.372946Z",
     "iopub.status.busy": "2024-12-01T15:56:07.371912Z",
     "iopub.status.idle": "2024-12-01T15:56:07.377990Z",
     "shell.execute_reply": "2024-12-01T15:56:07.376754Z"
    },
    "papermill": {
     "duration": 0.015561,
     "end_time": "2024-12-01T15:56:07.379932",
     "exception": false,
     "start_time": "2024-12-01T15:56:07.364371",
     "status": "completed"
    },
    "tags": []
   },
   "outputs": [],
   "source": [
    "# assuming differences in price data is normally distributed\n",
    "def expected_shortfall(alpha, mu, sigma):\n",
    "    z_a = norm.ppf(alpha)\n",
    "    z_t = (1 / (alpha * np.sqrt(2 * np.pi))) * np.exp(- z_a**2 / 2)\n",
    "    return mu - z_t * sigma  # note: z_t is negative since its the upper bound of the lower tail in the standard normal distribution"
   ]
  },
  {
   "cell_type": "code",
   "execution_count": 9,
   "id": "9d5cb21d",
   "metadata": {
    "execution": {
     "iopub.execute_input": "2024-12-01T15:56:07.393618Z",
     "iopub.status.busy": "2024-12-01T15:56:07.393239Z",
     "iopub.status.idle": "2024-12-01T15:56:07.401789Z",
     "shell.execute_reply": "2024-12-01T15:56:07.400801Z"
    },
    "papermill": {
     "duration": 0.017901,
     "end_time": "2024-12-01T15:56:07.403838",
     "exception": false,
     "start_time": "2024-12-01T15:56:07.385937",
     "status": "completed"
    },
    "tags": []
   },
   "outputs": [
    {
     "data": {
      "text/plain": [
       "-2.676144046815667"
      ]
     },
     "execution_count": 9,
     "metadata": {},
     "output_type": "execute_result"
    }
   ],
   "source": [
    "# Following the simple example given in the VaR section, this implementation of ES will follow using the same numbers.\n",
    "alpha = 0.05\n",
    "\n",
    "std = df['SPY'].std()\n",
    "mean = df['SPY'].mean()\n",
    "\n",
    "ES = expected_shortfall(alpha, mean, std)\n",
    "ES"
   ]
  },
  {
   "cell_type": "markdown",
   "id": "d66af9ca",
   "metadata": {
    "papermill": {
     "duration": 0.00589,
     "end_time": "2024-12-01T15:56:07.415821",
     "exception": false,
     "start_time": "2024-12-01T15:56:07.409931",
     "status": "completed"
    },
    "tags": []
   },
   "source": [
    "On average, if the S&P500 ETF SPY were to underperform 95% of it's usual returns, we would expect to lose -2.68%."
   ]
  },
  {
   "cell_type": "markdown",
   "id": "2bec7a4a",
   "metadata": {
    "papermill": {
     "duration": 0.005896,
     "end_time": "2024-12-01T15:56:07.427742",
     "exception": false,
     "start_time": "2024-12-01T15:56:07.421846",
     "status": "completed"
    },
    "tags": []
   },
   "source": [
    "## 4. Volatility Models <a class = \"anchor\" id = \"chapter4\"></a>"
   ]
  },
  {
   "cell_type": "markdown",
   "id": "c45cc4d2",
   "metadata": {
    "papermill": {
     "duration": 0.005936,
     "end_time": "2024-12-01T15:56:07.439747",
     "exception": false,
     "start_time": "2024-12-01T15:56:07.433811",
     "status": "completed"
    },
    "tags": []
   },
   "source": [
    "### 4.1 Rolling Window Volatility <a class = \"anchor\" id = \"subsec1\"></a>\n",
    "\n",
    "This is the simplest form of volatility forecasting. Essentially it just takes the average variance for each time t that is given in the \"window\" of size n. The Rolling Window Volatility model is the volatility equivalent of the Moving Average Smoothing model for mean forecasting aka Simple Moving Average.  \n",
    "\n",
    "The formula for Rolling Window Volatility is given by:\n",
    "$$\\hat{\\sigma}^2_{t|t-1} = \\frac{1}{n}\\Sigma_{i=1}^{n}(r_{t-i}-\\mu)^2$$\n",
    "\n",
    "Generally higher values of n will give the model more \"memory\" allowing it to have a smoother prediction as there are more values to average over. This model is rarely used but serves as a baseline for other models to built off of."
   ]
  },
  {
   "cell_type": "code",
   "execution_count": 10,
   "id": "b2d84a0a",
   "metadata": {
    "execution": {
     "iopub.execute_input": "2024-12-01T15:56:07.453385Z",
     "iopub.status.busy": "2024-12-01T15:56:07.453045Z",
     "iopub.status.idle": "2024-12-01T15:56:07.458652Z",
     "shell.execute_reply": "2024-12-01T15:56:07.457436Z"
    },
    "papermill": {
     "duration": 0.015373,
     "end_time": "2024-12-01T15:56:07.461161",
     "exception": false,
     "start_time": "2024-12-01T15:56:07.445788",
     "status": "completed"
    },
    "tags": []
   },
   "outputs": [],
   "source": [
    "# implementation\n",
    "# note: mu could just be calculated using the data in the function but usually is calculated using some sort of mean\n",
    "# forecasting function such as ARMA\n",
    "def ma_vol(n, mu, data):\n",
    "    roll_var = data['SPY'].iloc[-n:]\n",
    "    roll_var.apply(lambda x: (x - mu) ** 2)\n",
    "    return roll_var.sum() / n"
   ]
  },
  {
   "cell_type": "code",
   "execution_count": 11,
   "id": "c4b96cec",
   "metadata": {
    "execution": {
     "iopub.execute_input": "2024-12-01T15:56:07.475119Z",
     "iopub.status.busy": "2024-12-01T15:56:07.474776Z",
     "iopub.status.idle": "2024-12-01T15:56:07.482702Z",
     "shell.execute_reply": "2024-12-01T15:56:07.481665Z"
    },
    "papermill": {
     "duration": 0.017297,
     "end_time": "2024-12-01T15:56:07.484838",
     "exception": false,
     "start_time": "2024-12-01T15:56:07.467541",
     "status": "completed"
    },
    "tags": []
   },
   "outputs": [
    {
     "data": {
      "text/plain": [
       "0.15546348489188122"
      ]
     },
     "execution_count": 11,
     "metadata": {},
     "output_type": "execute_result"
    }
   ],
   "source": [
    "ma_vol(10, df[\"SPY\"].mean(), df)"
   ]
  },
  {
   "cell_type": "markdown",
   "id": "80589bb7",
   "metadata": {
    "papermill": {
     "duration": 0.006159,
     "end_time": "2024-12-01T15:56:07.497323",
     "exception": false,
     "start_time": "2024-12-01T15:56:07.491164",
     "status": "completed"
    },
    "tags": []
   },
   "source": [
    "The estimated volatility for the returns on SPY for the next trading day is 0.15%."
   ]
  },
  {
   "cell_type": "markdown",
   "id": "2b7117e4",
   "metadata": {
    "papermill": {
     "duration": 0.00642,
     "end_time": "2024-12-01T15:56:07.510386",
     "exception": false,
     "start_time": "2024-12-01T15:56:07.503966",
     "status": "completed"
    },
    "tags": []
   },
   "source": [
    "### 4.2 Exponentially Weighted Moving Average (EWMA) <a class = \"anchor\" id = \"subsec2\"></a>\n",
    "\n",
    "The Exponentially Weighted Moving Average model  (EWMA) is the volatility equivalent for the Simple Expoential Smoothing model (SES) for mean forecasting.  \n",
    "SES:\n",
    "$$l_t = \\alpha\\Sigma^{T-1}_{k=0}(1-\\alpha)^k y_{T-k} + (1-\\alpha)^T l_0$$\n",
    "EWMA:\n",
    "$$\\hat{\\sigma}^2_{t|t-1} = (1-\\lambda) \\Sigma^{t-1}_{i=1}\\lambda^{i-1}(r_{t-1}-\\mu)^2$$\n",
    "  \n",
    "The EWMA model is the SES model where $l_0 = 0$, $\\alpha = (1-lambda)$, $k = i - 1$, $T = t - 1$, $y_t = (r_t - \\mu)^2$, and $l_{t-1} = \\hat{\\sigma}^2_{t|t-1}$\n",
    "Note: The different notation is because one comes from the field of statistics and the other from the field of finance."
   ]
  },
  {
   "cell_type": "code",
   "execution_count": 12,
   "id": "2b9e7553",
   "metadata": {
    "execution": {
     "iopub.execute_input": "2024-12-01T15:56:07.525946Z",
     "iopub.status.busy": "2024-12-01T15:56:07.524969Z",
     "iopub.status.idle": "2024-12-01T15:56:07.531882Z",
     "shell.execute_reply": "2024-12-01T15:56:07.530870Z"
    },
    "papermill": {
     "duration": 0.017242,
     "end_time": "2024-12-01T15:56:07.534190",
     "exception": false,
     "start_time": "2024-12-01T15:56:07.516948",
     "status": "completed"
    },
    "tags": []
   },
   "outputs": [],
   "source": [
    "# implementation\n",
    "def EWMA(_lambda, mean, data):\n",
    "    sigma_squared = 0\n",
    "    for i in range(1, len(data)):\n",
    "        r_t_1 = data.iloc[-i]\n",
    "        sigma_squared += _lambda ** (i - 1) * (r_t_1 - mean) ** 2\n",
    "    sigma_squared *= (1 - _lambda)\n",
    "    return sigma_squared"
   ]
  },
  {
   "cell_type": "code",
   "execution_count": 13,
   "id": "bd5cadff",
   "metadata": {
    "execution": {
     "iopub.execute_input": "2024-12-01T15:56:07.549730Z",
     "iopub.status.busy": "2024-12-01T15:56:07.548402Z",
     "iopub.status.idle": "2024-12-01T15:56:07.564786Z",
     "shell.execute_reply": "2024-12-01T15:56:07.563816Z"
    },
    "papermill": {
     "duration": 0.026107,
     "end_time": "2024-12-01T15:56:07.566888",
     "exception": false,
     "start_time": "2024-12-01T15:56:07.540781",
     "status": "completed"
    },
    "tags": []
   },
   "outputs": [
    {
     "data": {
      "text/plain": [
       "0.26054840450862227"
      ]
     },
     "execution_count": 13,
     "metadata": {},
     "output_type": "execute_result"
    }
   ],
   "source": [
    "EWMA(0.3, df[\"SPY\"].mean(), df[\"SPY\"])"
   ]
  },
  {
   "cell_type": "markdown",
   "id": "2c26d747",
   "metadata": {
    "papermill": {
     "duration": 0.006155,
     "end_time": "2024-12-01T15:56:07.579631",
     "exception": false,
     "start_time": "2024-12-01T15:56:07.573476",
     "status": "completed"
    },
    "tags": []
   },
   "source": [
    "Since the EWMA model takes in all the data rather than just the most recent n values as the Rolling Window Model did, the EWMA model is described to have a longer memory, making it generally more reliable. However, it is still not used often in forecasting as it is often a part of more complicated and sophisticated models such as GARCH."
   ]
  },
  {
   "cell_type": "markdown",
   "id": "9a79c62f",
   "metadata": {
    "papermill": {
     "duration": 0.0062,
     "end_time": "2024-12-01T15:56:07.592064",
     "exception": false,
     "start_time": "2024-12-01T15:56:07.585864",
     "status": "completed"
    },
    "tags": []
   },
   "source": [
    "### 4.3 Autoregressive Conditional Heteroskedasticity (ARCH) <a class = \"anchor\" id = \"subsec3\"></a>\n",
    "  \n",
    "The Autoregressive Conditional Heteroskedasticity model of order p (ARCH(p)) is defined as:\n",
    "$$\\sigma^2_{t|t-1} = \\omega + \\alpha_1 \\epsilon^2_{t-1} + \\alpha_2 \\epsilon^2_{t-2} + ... + \\alpha_p \\epsilon^2_{t-p}$$\n",
    "Where $\\omega, \\alpha_i$ are parameters fit using data and $\\epsilon_i$ is the error term of the mean forecast for the time i.  \n",
    "Because $\\sigma^2_{t|t-1} >= 0$ then $\\omega >= 0$  \n",
    "  \n",
    "Notice how the ARCH model of order p only has p terms of $\\epsilon$. This once again means that the ARCH model only has a short memory and thus may not be very appropriate to be used in practice. In order to have a sufficiently precise estimate with the ARCH model, p has to be significantly large. Another key feature about the ARCH model is that it performs when when variance is clustered. This is due to the small amount of epsilons being able to capture time specific trends which can result in clustering of variances."
   ]
  },
  {
   "cell_type": "code",
   "execution_count": 14,
   "id": "7e9f1b14",
   "metadata": {
    "execution": {
     "iopub.execute_input": "2024-12-01T15:56:07.606506Z",
     "iopub.status.busy": "2024-12-01T15:56:07.606139Z",
     "iopub.status.idle": "2024-12-01T15:56:21.801723Z",
     "shell.execute_reply": "2024-12-01T15:56:21.800594Z"
    },
    "papermill": {
     "duration": 14.206109,
     "end_time": "2024-12-01T15:56:21.804376",
     "exception": false,
     "start_time": "2024-12-01T15:56:07.598267",
     "status": "completed"
    },
    "tags": []
   },
   "outputs": [
    {
     "name": "stdout",
     "output_type": "stream",
     "text": [
      "Note: you may need to restart the kernel to use updated packages.\n"
     ]
    }
   ],
   "source": [
    "%pip install arch --quiet\n",
    "from arch import arch_model"
   ]
  },
  {
   "cell_type": "code",
   "execution_count": 15,
   "id": "4c5bd183",
   "metadata": {
    "execution": {
     "iopub.execute_input": "2024-12-01T15:56:21.819792Z",
     "iopub.status.busy": "2024-12-01T15:56:21.819245Z",
     "iopub.status.idle": "2024-12-01T15:56:21.853677Z",
     "shell.execute_reply": "2024-12-01T15:56:21.852492Z"
    },
    "papermill": {
     "duration": 0.045115,
     "end_time": "2024-12-01T15:56:21.856461",
     "exception": false,
     "start_time": "2024-12-01T15:56:21.811346",
     "status": "completed"
    },
    "tags": []
   },
   "outputs": [],
   "source": [
    "# implementation\n",
    "p = 1\n",
    "model = arch_model(df['SPY'], vol='ARCH', p=p)\n",
    "\n",
    "fitted_model_arch_1 = model.fit(disp='off')"
   ]
  },
  {
   "cell_type": "code",
   "execution_count": 16,
   "id": "a3378df0",
   "metadata": {
    "execution": {
     "iopub.execute_input": "2024-12-01T15:56:21.871303Z",
     "iopub.status.busy": "2024-12-01T15:56:21.870937Z",
     "iopub.status.idle": "2024-12-01T15:56:21.924072Z",
     "shell.execute_reply": "2024-12-01T15:56:21.922279Z"
    },
    "papermill": {
     "duration": 0.064106,
     "end_time": "2024-12-01T15:56:21.927336",
     "exception": false,
     "start_time": "2024-12-01T15:56:21.863230",
     "status": "completed"
    },
    "tags": []
   },
   "outputs": [
    {
     "data": {
      "text/html": [
       "<table class=\"simpletable\">\n",
       "<caption>Constant Mean - ARCH Model Results</caption>\n",
       "<tr>\n",
       "  <th>Dep. Variable:</th>         <td>SPY</td>        <th>  R-squared:         </th>  <td>   0.000</td> \n",
       "</tr>\n",
       "<tr>\n",
       "  <th>Mean Model:</th>       <td>Constant Mean</td>   <th>  Adj. R-squared:    </th>  <td>   0.000</td> \n",
       "</tr>\n",
       "<tr>\n",
       "  <th>Vol Model:</th>            <td>ARCH</td>        <th>  Log-Likelihood:    </th> <td>  -1939.90</td>\n",
       "</tr>\n",
       "<tr>\n",
       "  <th>Distribution:</th>        <td>Normal</td>       <th>  AIC:               </th> <td>   3885.81</td>\n",
       "</tr>\n",
       "<tr>\n",
       "  <th>Method:</th>        <td>Maximum Likelihood</td> <th>  BIC:               </th> <td>   3901.17</td>\n",
       "</tr>\n",
       "<tr>\n",
       "  <th></th>                        <td></td>          <th>  No. Observations:  </th>    <td>1236</td>   \n",
       "</tr>\n",
       "<tr>\n",
       "  <th>Date:</th>           <td>Sun, Dec 01 2024</td>  <th>  Df Residuals:      </th>    <td>1235</td>   \n",
       "</tr>\n",
       "<tr>\n",
       "  <th>Time:</th>               <td>15:56:21</td>      <th>  Df Model:          </th>      <td>1</td>    \n",
       "</tr>\n",
       "</table>\n",
       "<table class=\"simpletable\">\n",
       "<caption>Mean Model</caption>\n",
       "<tr>\n",
       "   <td></td>     <th>coef</th>     <th>std err</th>      <th>t</th>       <th>P>|t|</th>    <th>95.0% Conf. Int.</th>  \n",
       "</tr>\n",
       "<tr>\n",
       "  <th>mu</th> <td>    0.1472</td> <td>3.348e-02</td> <td>    4.398</td> <td>1.093e-05</td> <td>[8.162e-02,  0.213]</td>\n",
       "</tr>\n",
       "</table>\n",
       "<table class=\"simpletable\">\n",
       "<caption>Volatility Model</caption>\n",
       "<tr>\n",
       "      <td></td>        <th>coef</th>     <th>std err</th>      <th>t</th>       <th>P>|t|</th>   <th>95.0% Conf. Int.</th> \n",
       "</tr>\n",
       "<tr>\n",
       "  <th>omega</th>    <td>    0.8863</td> <td>8.414e-02</td> <td>   10.535</td> <td>5.989e-26</td> <td>[  0.721,  1.051]</td>\n",
       "</tr>\n",
       "<tr>\n",
       "  <th>alpha[1]</th> <td>    0.5249</td> <td>    0.123</td> <td>    4.250</td> <td>2.134e-05</td> <td>[  0.283,  0.767]</td>\n",
       "</tr>\n",
       "</table><br/><br/>Covariance estimator: robust"
      ],
      "text/latex": [
       "\\begin{center}\n",
       "\\begin{tabular}{lclc}\n",
       "\\toprule\n",
       "\\textbf{Dep. Variable:} &        SPY         & \\textbf{  R-squared:         } &     0.000   \\\\\n",
       "\\textbf{Mean Model:}    &   Constant Mean    & \\textbf{  Adj. R-squared:    } &     0.000   \\\\\n",
       "\\textbf{Vol Model:}     &        ARCH        & \\textbf{  Log-Likelihood:    } &   -1939.90  \\\\\n",
       "\\textbf{Distribution:}  &       Normal       & \\textbf{  AIC:               } &    3885.81  \\\\\n",
       "\\textbf{Method:}        & Maximum Likelihood & \\textbf{  BIC:               } &    3901.17  \\\\\n",
       "\\textbf{}               &                    & \\textbf{  No. Observations:  } &    1236     \\\\\n",
       "\\textbf{Date:}          &  Sun, Dec 01 2024  & \\textbf{  Df Residuals:      } &    1235     \\\\\n",
       "\\textbf{Time:}          &      15:56:21      & \\textbf{  Df Model:          } &     1       \\\\\n",
       "\\bottomrule\n",
       "\\end{tabular}\n",
       "\\begin{tabular}{lccccc}\n",
       "            & \\textbf{coef} & \\textbf{std err} & \\textbf{t} & \\textbf{P$> |$t$|$} & \\textbf{95.0\\% Conf. Int.}  \\\\\n",
       "\\midrule\n",
       "\\textbf{mu} &       0.1472  &    3.348e-02     &     4.398  &      1.093e-05       &    [8.162e-02,  0.213]      \\\\\n",
       "                  & \\textbf{coef} & \\textbf{std err} & \\textbf{t} & \\textbf{P$> |$t$|$} & \\textbf{95.0\\% Conf. Int.}  \\\\\n",
       "\\midrule\n",
       "\\textbf{omega}    &       0.8863  &    8.414e-02     &    10.535  &      5.989e-26       &     [  0.721,  1.051]       \\\\\n",
       "\\textbf{alpha[1]} &       0.5249  &        0.123     &     4.250  &      2.134e-05       &     [  0.283,  0.767]       \\\\\n",
       "\\bottomrule\n",
       "\\end{tabular}\n",
       "%\\caption{Constant Mean - ARCH Model Results}\n",
       "\\end{center}\n",
       "\n",
       "Covariance estimator: robust"
      ],
      "text/plain": [
       "<class 'statsmodels.iolib.summary.Summary'>\n",
       "\"\"\"\n",
       "                      Constant Mean - ARCH Model Results                      \n",
       "==============================================================================\n",
       "Dep. Variable:                    SPY   R-squared:                       0.000\n",
       "Mean Model:             Constant Mean   Adj. R-squared:                  0.000\n",
       "Vol Model:                       ARCH   Log-Likelihood:               -1939.90\n",
       "Distribution:                  Normal   AIC:                           3885.81\n",
       "Method:            Maximum Likelihood   BIC:                           3901.17\n",
       "                                        No. Observations:                 1236\n",
       "Date:                Sun, Dec 01 2024   Df Residuals:                     1235\n",
       "Time:                        15:56:21   Df Model:                            1\n",
       "                                Mean Model                                \n",
       "==========================================================================\n",
       "                 coef    std err          t      P>|t|    95.0% Conf. Int.\n",
       "--------------------------------------------------------------------------\n",
       "mu             0.1472  3.348e-02      4.398  1.093e-05 [8.162e-02,  0.213]\n",
       "                            Volatility Model                            \n",
       "========================================================================\n",
       "                 coef    std err          t      P>|t|  95.0% Conf. Int.\n",
       "------------------------------------------------------------------------\n",
       "omega          0.8863  8.414e-02     10.535  5.989e-26 [  0.721,  1.051]\n",
       "alpha[1]       0.5249      0.123      4.250  2.134e-05 [  0.283,  0.767]\n",
       "========================================================================\n",
       "\n",
       "Covariance estimator: robust\n",
       "\"\"\""
      ]
     },
     "execution_count": 16,
     "metadata": {},
     "output_type": "execute_result"
    }
   ],
   "source": [
    "fitted_model_arch_1.summary()"
   ]
  },
  {
   "cell_type": "code",
   "execution_count": 17,
   "id": "27e19aa9",
   "metadata": {
    "execution": {
     "iopub.execute_input": "2024-12-01T15:56:21.969849Z",
     "iopub.status.busy": "2024-12-01T15:56:21.969272Z",
     "iopub.status.idle": "2024-12-01T15:56:22.302693Z",
     "shell.execute_reply": "2024-12-01T15:56:22.301712Z"
    },
    "papermill": {
     "duration": 0.358725,
     "end_time": "2024-12-01T15:56:22.305312",
     "exception": false,
     "start_time": "2024-12-01T15:56:21.946587",
     "status": "completed"
    },
    "tags": []
   },
   "outputs": [],
   "source": [
    "# with a larger p\n",
    "p = 20\n",
    "model = arch_model(df['SPY'], vol='ARCH', p=p)\n",
    "\n",
    "fitted_model_arch_2 = model.fit(disp='off')"
   ]
  },
  {
   "cell_type": "code",
   "execution_count": 18,
   "id": "ffe4e58f",
   "metadata": {
    "execution": {
     "iopub.execute_input": "2024-12-01T15:56:22.321395Z",
     "iopub.status.busy": "2024-12-01T15:56:22.321056Z",
     "iopub.status.idle": "2024-12-01T15:56:22.520735Z",
     "shell.execute_reply": "2024-12-01T15:56:22.518313Z"
    },
    "papermill": {
     "duration": 0.212046,
     "end_time": "2024-12-01T15:56:22.524740",
     "exception": false,
     "start_time": "2024-12-01T15:56:22.312694",
     "status": "completed"
    },
    "tags": []
   },
   "outputs": [
    {
     "data": {
      "text/html": [
       "<table class=\"simpletable\">\n",
       "<caption>Constant Mean - ARCH Model Results</caption>\n",
       "<tr>\n",
       "  <th>Dep. Variable:</th>         <td>SPY</td>        <th>  R-squared:         </th>  <td>   0.000</td> \n",
       "</tr>\n",
       "<tr>\n",
       "  <th>Mean Model:</th>       <td>Constant Mean</td>   <th>  Adj. R-squared:    </th>  <td>   0.000</td> \n",
       "</tr>\n",
       "<tr>\n",
       "  <th>Vol Model:</th>            <td>ARCH</td>        <th>  Log-Likelihood:    </th> <td>  -1781.84</td>\n",
       "</tr>\n",
       "<tr>\n",
       "  <th>Distribution:</th>        <td>Normal</td>       <th>  AIC:               </th> <td>   3607.68</td>\n",
       "</tr>\n",
       "<tr>\n",
       "  <th>Method:</th>        <td>Maximum Likelihood</td> <th>  BIC:               </th> <td>   3720.31</td>\n",
       "</tr>\n",
       "<tr>\n",
       "  <th></th>                        <td></td>          <th>  No. Observations:  </th>    <td>1236</td>   \n",
       "</tr>\n",
       "<tr>\n",
       "  <th>Date:</th>           <td>Sun, Dec 01 2024</td>  <th>  Df Residuals:      </th>    <td>1235</td>   \n",
       "</tr>\n",
       "<tr>\n",
       "  <th>Time:</th>               <td>15:56:22</td>      <th>  Df Model:          </th>      <td>1</td>    \n",
       "</tr>\n",
       "</table>\n",
       "<table class=\"simpletable\">\n",
       "<caption>Mean Model</caption>\n",
       "<tr>\n",
       "   <td></td>     <th>coef</th>     <th>std err</th>      <th>t</th>       <th>P>|t|</th>    <th>95.0% Conf. Int.</th>  \n",
       "</tr>\n",
       "<tr>\n",
       "  <th>mu</th> <td>    0.0943</td> <td>2.702e-02</td> <td>    3.491</td> <td>4.814e-04</td> <td>[4.137e-02,  0.147]</td>\n",
       "</tr>\n",
       "</table>\n",
       "<table class=\"simpletable\">\n",
       "<caption>Volatility Model</caption>\n",
       "<tr>\n",
       "      <td></td>         <th>coef</th>     <th>std err</th>      <th>t</th>       <th>P>|t|</th>      <th>95.0% Conf. Int.</th>   \n",
       "</tr>\n",
       "<tr>\n",
       "  <th>omega</th>     <td>    0.2039</td> <td>6.200e-02</td> <td>    3.288</td> <td>1.009e-03</td>   <td>[8.234e-02,  0.325]</td> \n",
       "</tr>\n",
       "<tr>\n",
       "  <th>alpha[1]</th>  <td>    0.0998</td> <td>5.595e-02</td> <td>    1.784</td> <td>7.450e-02</td>  <td>[-9.873e-03,  0.209]</td> \n",
       "</tr>\n",
       "<tr>\n",
       "  <th>alpha[2]</th>  <td>    0.1672</td> <td>4.016e-02</td> <td>    4.162</td> <td>3.151e-05</td>   <td>[8.845e-02,  0.246]</td> \n",
       "</tr>\n",
       "<tr>\n",
       "  <th>alpha[3]</th>  <td>    0.0962</td> <td>4.238e-02</td> <td>    2.271</td> <td>2.314e-02</td>   <td>[1.319e-02,  0.179]</td> \n",
       "</tr>\n",
       "<tr>\n",
       "  <th>alpha[4]</th>  <td>    0.0984</td> <td>5.490e-02</td> <td>    1.792</td> <td>7.310e-02</td>  <td>[-9.209e-03,  0.206]</td> \n",
       "</tr>\n",
       "<tr>\n",
       "  <th>alpha[5]</th>  <td>    0.0650</td> <td>4.618e-02</td> <td>    1.408</td> <td>    0.159</td>  <td>[-2.550e-02,  0.156]</td> \n",
       "</tr>\n",
       "<tr>\n",
       "  <th>alpha[6]</th>  <td>    0.0665</td> <td>4.180e-02</td> <td>    1.591</td> <td>    0.112</td>  <td>[-1.543e-02,  0.148]</td> \n",
       "</tr>\n",
       "<tr>\n",
       "  <th>alpha[7]</th>    <td>0.0000</td>   <td>4.501e-02</td>   <td>0.000</td>   <td>    1.000</td> <td>[-8.821e-02,8.821e-02]</td>\n",
       "</tr>\n",
       "<tr>\n",
       "  <th>alpha[8]</th>  <td>    0.0385</td> <td>3.788e-02</td> <td>    1.016</td> <td>    0.310</td>  <td>[-3.575e-02,  0.113]</td> \n",
       "</tr>\n",
       "<tr>\n",
       "  <th>alpha[9]</th>  <td>    0.0106</td> <td>2.194e-02</td> <td>    0.484</td> <td>    0.628</td> <td>[-3.237e-02,5.362e-02]</td>\n",
       "</tr>\n",
       "<tr>\n",
       "  <th>alpha[10]</th>   <td>0.0000</td>   <td>5.535e-02</td>   <td>0.000</td>   <td>    1.000</td>    <td>[ -0.108,  0.108]</td>  \n",
       "</tr>\n",
       "<tr>\n",
       "  <th>alpha[11]</th> <td>    0.0302</td> <td>2.975e-02</td> <td>    1.016</td> <td>    0.310</td> <td>[-2.809e-02,8.852e-02]</td>\n",
       "</tr>\n",
       "<tr>\n",
       "  <th>alpha[12]</th>   <td>0.0000</td>   <td>3.609e-02</td>   <td>0.000</td>   <td>    1.000</td> <td>[-7.073e-02,7.073e-02]</td>\n",
       "</tr>\n",
       "<tr>\n",
       "  <th>alpha[13]</th> <td>    0.0517</td> <td>3.145e-02</td> <td>    1.643</td> <td>    0.100</td>  <td>[-9.970e-03,  0.113]</td> \n",
       "</tr>\n",
       "<tr>\n",
       "  <th>alpha[14]</th>   <td>0.0000</td>   <td>4.413e-02</td>   <td>0.000</td>   <td>    1.000</td> <td>[-8.649e-02,8.649e-02]</td>\n",
       "</tr>\n",
       "<tr>\n",
       "  <th>alpha[15]</th> <td>2.5214e-11</td> <td>3.675e-02</td> <td>6.861e-10</td> <td>    1.000</td> <td>[-7.203e-02,7.203e-02]</td>\n",
       "</tr>\n",
       "<tr>\n",
       "  <th>alpha[16]</th> <td>    0.0559</td> <td>4.194e-02</td> <td>    1.334</td> <td>    0.182</td>  <td>[-2.626e-02,  0.138]</td> \n",
       "</tr>\n",
       "<tr>\n",
       "  <th>alpha[17]</th> <td>4.9449e-12</td> <td>3.715e-02</td> <td>1.331e-10</td> <td>    1.000</td> <td>[-7.281e-02,7.281e-02]</td>\n",
       "</tr>\n",
       "<tr>\n",
       "  <th>alpha[18]</th>   <td>0.0000</td>   <td>4.515e-02</td>   <td>0.000</td>   <td>    1.000</td> <td>[-8.850e-02,8.850e-02]</td>\n",
       "</tr>\n",
       "<tr>\n",
       "  <th>alpha[19]</th> <td>7.7241e-03</td> <td>2.907e-02</td> <td>    0.266</td> <td>    0.790</td> <td>[-4.926e-02,6.471e-02]</td>\n",
       "</tr>\n",
       "<tr>\n",
       "  <th>alpha[20]</th> <td>    0.0726</td> <td>4.328e-02</td> <td>    1.679</td> <td>9.325e-02</td>  <td>[-1.218e-02,  0.157]</td> \n",
       "</tr>\n",
       "</table><br/><br/>Covariance estimator: robust"
      ],
      "text/latex": [
       "\\begin{center}\n",
       "\\begin{tabular}{lclc}\n",
       "\\toprule\n",
       "\\textbf{Dep. Variable:} &        SPY         & \\textbf{  R-squared:         } &     0.000   \\\\\n",
       "\\textbf{Mean Model:}    &   Constant Mean    & \\textbf{  Adj. R-squared:    } &     0.000   \\\\\n",
       "\\textbf{Vol Model:}     &        ARCH        & \\textbf{  Log-Likelihood:    } &   -1781.84  \\\\\n",
       "\\textbf{Distribution:}  &       Normal       & \\textbf{  AIC:               } &    3607.68  \\\\\n",
       "\\textbf{Method:}        & Maximum Likelihood & \\textbf{  BIC:               } &    3720.31  \\\\\n",
       "\\textbf{}               &                    & \\textbf{  No. Observations:  } &    1236     \\\\\n",
       "\\textbf{Date:}          &  Sun, Dec 01 2024  & \\textbf{  Df Residuals:      } &    1235     \\\\\n",
       "\\textbf{Time:}          &      15:56:22      & \\textbf{  Df Model:          } &     1       \\\\\n",
       "\\bottomrule\n",
       "\\end{tabular}\n",
       "\\begin{tabular}{lccccc}\n",
       "            & \\textbf{coef} & \\textbf{std err} & \\textbf{t} & \\textbf{P$> |$t$|$} & \\textbf{95.0\\% Conf. Int.}  \\\\\n",
       "\\midrule\n",
       "\\textbf{mu} &       0.0943  &    2.702e-02     &     3.491  &      4.814e-04       &    [4.137e-02,  0.147]      \\\\\n",
       "                   & \\textbf{coef} & \\textbf{std err} & \\textbf{t} & \\textbf{P$> |$t$|$} & \\textbf{95.0\\% Conf. Int.}  \\\\\n",
       "\\midrule\n",
       "\\textbf{omega}     &       0.2039  &    6.200e-02     &     3.288  &      1.009e-03       &    [8.234e-02,  0.325]      \\\\\n",
       "\\textbf{alpha[1]}  &       0.0998  &    5.595e-02     &     1.784  &      7.450e-02       &    [-9.873e-03,  0.209]     \\\\\n",
       "\\textbf{alpha[2]}  &       0.1672  &    4.016e-02     &     4.162  &      3.151e-05       &    [8.845e-02,  0.246]      \\\\\n",
       "\\textbf{alpha[3]}  &       0.0962  &    4.238e-02     &     2.271  &      2.314e-02       &    [1.319e-02,  0.179]      \\\\\n",
       "\\textbf{alpha[4]}  &       0.0984  &    5.490e-02     &     1.792  &      7.310e-02       &    [-9.209e-03,  0.206]     \\\\\n",
       "\\textbf{alpha[5]}  &       0.0650  &    4.618e-02     &     1.408  &          0.159       &    [-2.550e-02,  0.156]     \\\\\n",
       "\\textbf{alpha[6]}  &       0.0665  &    4.180e-02     &     1.591  &          0.112       &    [-1.543e-02,  0.148]     \\\\\n",
       "\\textbf{alpha[7]}  &     0.0000    &    4.501e-02     &   0.000    &          1.000       &   [-8.821e-02,8.821e-02]    \\\\\n",
       "\\textbf{alpha[8]}  &       0.0385  &    3.788e-02     &     1.016  &          0.310       &    [-3.575e-02,  0.113]     \\\\\n",
       "\\textbf{alpha[9]}  &       0.0106  &    2.194e-02     &     0.484  &          0.628       &   [-3.237e-02,5.362e-02]    \\\\\n",
       "\\textbf{alpha[10]} &     0.0000    &    5.535e-02     &   0.000    &          1.000       &     [ -0.108,  0.108]       \\\\\n",
       "\\textbf{alpha[11]} &       0.0302  &    2.975e-02     &     1.016  &          0.310       &   [-2.809e-02,8.852e-02]    \\\\\n",
       "\\textbf{alpha[12]} &     0.0000    &    3.609e-02     &   0.000    &          1.000       &   [-7.073e-02,7.073e-02]    \\\\\n",
       "\\textbf{alpha[13]} &       0.0517  &    3.145e-02     &     1.643  &          0.100       &    [-9.970e-03,  0.113]     \\\\\n",
       "\\textbf{alpha[14]} &     0.0000    &    4.413e-02     &   0.000    &          1.000       &   [-8.649e-02,8.649e-02]    \\\\\n",
       "\\textbf{alpha[15]} &   2.5214e-11  &    3.675e-02     & 6.861e-10  &          1.000       &   [-7.203e-02,7.203e-02]    \\\\\n",
       "\\textbf{alpha[16]} &       0.0559  &    4.194e-02     &     1.334  &          0.182       &    [-2.626e-02,  0.138]     \\\\\n",
       "\\textbf{alpha[17]} &   4.9449e-12  &    3.715e-02     & 1.331e-10  &          1.000       &   [-7.281e-02,7.281e-02]    \\\\\n",
       "\\textbf{alpha[18]} &     0.0000    &    4.515e-02     &   0.000    &          1.000       &   [-8.850e-02,8.850e-02]    \\\\\n",
       "\\textbf{alpha[19]} &   7.7241e-03  &    2.907e-02     &     0.266  &          0.790       &   [-4.926e-02,6.471e-02]    \\\\\n",
       "\\textbf{alpha[20]} &       0.0726  &    4.328e-02     &     1.679  &      9.325e-02       &    [-1.218e-02,  0.157]     \\\\\n",
       "\\bottomrule\n",
       "\\end{tabular}\n",
       "%\\caption{Constant Mean - ARCH Model Results}\n",
       "\\end{center}\n",
       "\n",
       "Covariance estimator: robust"
      ],
      "text/plain": [
       "<class 'statsmodels.iolib.summary.Summary'>\n",
       "\"\"\"\n",
       "                      Constant Mean - ARCH Model Results                      \n",
       "==============================================================================\n",
       "Dep. Variable:                    SPY   R-squared:                       0.000\n",
       "Mean Model:             Constant Mean   Adj. R-squared:                  0.000\n",
       "Vol Model:                       ARCH   Log-Likelihood:               -1781.84\n",
       "Distribution:                  Normal   AIC:                           3607.68\n",
       "Method:            Maximum Likelihood   BIC:                           3720.31\n",
       "                                        No. Observations:                 1236\n",
       "Date:                Sun, Dec 01 2024   Df Residuals:                     1235\n",
       "Time:                        15:56:22   Df Model:                            1\n",
       "                                Mean Model                                \n",
       "==========================================================================\n",
       "                 coef    std err          t      P>|t|    95.0% Conf. Int.\n",
       "--------------------------------------------------------------------------\n",
       "mu             0.0943  2.702e-02      3.491  4.814e-04 [4.137e-02,  0.147]\n",
       "                               Volatility Model                              \n",
       "=============================================================================\n",
       "                 coef    std err          t      P>|t|       95.0% Conf. Int.\n",
       "-----------------------------------------------------------------------------\n",
       "omega          0.2039  6.200e-02      3.288  1.009e-03    [8.234e-02,  0.325]\n",
       "alpha[1]       0.0998  5.595e-02      1.784  7.450e-02   [-9.873e-03,  0.209]\n",
       "alpha[2]       0.1672  4.016e-02      4.162  3.151e-05    [8.845e-02,  0.246]\n",
       "alpha[3]       0.0962  4.238e-02      2.271  2.314e-02    [1.319e-02,  0.179]\n",
       "alpha[4]       0.0984  5.490e-02      1.792  7.310e-02   [-9.209e-03,  0.206]\n",
       "alpha[5]       0.0650  4.618e-02      1.408      0.159   [-2.550e-02,  0.156]\n",
       "alpha[6]       0.0665  4.180e-02      1.591      0.112   [-1.543e-02,  0.148]\n",
       "alpha[7]       0.0000  4.501e-02      0.000      1.000 [-8.821e-02,8.821e-02]\n",
       "alpha[8]       0.0385  3.788e-02      1.016      0.310   [-3.575e-02,  0.113]\n",
       "alpha[9]       0.0106  2.194e-02      0.484      0.628 [-3.237e-02,5.362e-02]\n",
       "alpha[10]      0.0000  5.535e-02      0.000      1.000      [ -0.108,  0.108]\n",
       "alpha[11]      0.0302  2.975e-02      1.016      0.310 [-2.809e-02,8.852e-02]\n",
       "alpha[12]      0.0000  3.609e-02      0.000      1.000 [-7.073e-02,7.073e-02]\n",
       "alpha[13]      0.0517  3.145e-02      1.643      0.100   [-9.970e-03,  0.113]\n",
       "alpha[14]      0.0000  4.413e-02      0.000      1.000 [-8.649e-02,8.649e-02]\n",
       "alpha[15]  2.5214e-11  3.675e-02  6.861e-10      1.000 [-7.203e-02,7.203e-02]\n",
       "alpha[16]      0.0559  4.194e-02      1.334      0.182   [-2.626e-02,  0.138]\n",
       "alpha[17]  4.9449e-12  3.715e-02  1.331e-10      1.000 [-7.281e-02,7.281e-02]\n",
       "alpha[18]      0.0000  4.515e-02      0.000      1.000 [-8.850e-02,8.850e-02]\n",
       "alpha[19]  7.7241e-03  2.907e-02      0.266      0.790 [-4.926e-02,6.471e-02]\n",
       "alpha[20]      0.0726  4.328e-02      1.679  9.325e-02   [-1.218e-02,  0.157]\n",
       "=============================================================================\n",
       "\n",
       "Covariance estimator: robust\n",
       "\"\"\""
      ]
     },
     "execution_count": 18,
     "metadata": {},
     "output_type": "execute_result"
    }
   ],
   "source": [
    "fitted_model_arch_2.summary()"
   ]
  },
  {
   "cell_type": "markdown",
   "id": "f631e32b",
   "metadata": {
    "papermill": {
     "duration": 0.008266,
     "end_time": "2024-12-01T15:56:22.553487",
     "exception": false,
     "start_time": "2024-12-01T15:56:22.545221",
     "status": "completed"
    },
    "tags": []
   },
   "source": [
    "### 4.4 Generalized Autoregressive Conditional Heteroskedasticity (GARCH) <a class = \"anchor\" id = \"subsec4\"></a>\n",
    "The Generalized ARCH model of order p, q (GARCH(p, q)) is defined as:\n",
    "$$\\sigma^2_{t|t-1} = \\omega + \\alpha_1 \\epsilon^2_{t-1} + \\alpha_2 \\epsilon^2_{t-2} + ... + \\alpha_p \\epsilon^2_{t-p} + \\beta \\sigma^2_{t-1|t-2} + \\beta_2 \\sigma^2 _{t-2|t-3} + ... + \\beta_q \\sigma^2_{t-1|t-q-1}$$\n",
    "The GARCH model adds addition terms to the arch model in the form of conditional variances. Adding these conditional variances allows the model to take data from further in the past into considering, giving it a high degree of accuracy. Generally GARCH(p, q) only need a small amount of paramters to make accurate predictions.\n",
    "\n",
    "Consider the GARCH(1, 1) model:\n",
    "$$\\sigma^2_{t|t-1} = \\omega + \\alpha \\epsilon^2_{t-1} + \\beta \\sigma^2_{t-1|t-2}$$\n",
    "After Exanpanding and substituting\n",
    "$$\\sigma^2_{t|t-1} = \\frac{\\omega}{1-\\beta} + \\alpha \\Sigma^\\infty_{i=1} \\beta^{i-1}\\epsilon^2_{t-i}$$\n",
    "Making the GARCH(1, 1) model equivalent to the ARCH($\\infty$) model but with significantly less parameters."
   ]
  },
  {
   "cell_type": "code",
   "execution_count": 19,
   "id": "c93f9b1a",
   "metadata": {
    "execution": {
     "iopub.execute_input": "2024-12-01T15:56:22.568681Z",
     "iopub.status.busy": "2024-12-01T15:56:22.568344Z",
     "iopub.status.idle": "2024-12-01T15:56:22.600425Z",
     "shell.execute_reply": "2024-12-01T15:56:22.599438Z"
    },
    "papermill": {
     "duration": 0.042637,
     "end_time": "2024-12-01T15:56:22.602934",
     "exception": false,
     "start_time": "2024-12-01T15:56:22.560297",
     "status": "completed"
    },
    "tags": []
   },
   "outputs": [],
   "source": [
    "# implementation\n",
    "model = arch_model(df['SPY'], vol='Garch', p=1, q=1)\n",
    "fitted_model_garch = model.fit(disp='off')"
   ]
  },
  {
   "cell_type": "code",
   "execution_count": 20,
   "id": "29a0222f",
   "metadata": {
    "execution": {
     "iopub.execute_input": "2024-12-01T15:56:22.619984Z",
     "iopub.status.busy": "2024-12-01T15:56:22.619643Z",
     "iopub.status.idle": "2024-12-01T15:56:22.674756Z",
     "shell.execute_reply": "2024-12-01T15:56:22.672508Z"
    },
    "papermill": {
     "duration": 0.068523,
     "end_time": "2024-12-01T15:56:22.679151",
     "exception": false,
     "start_time": "2024-12-01T15:56:22.610628",
     "status": "completed"
    },
    "tags": []
   },
   "outputs": [
    {
     "data": {
      "text/html": [
       "<table class=\"simpletable\">\n",
       "<caption>Constant Mean - GARCH Model Results</caption>\n",
       "<tr>\n",
       "  <th>Dep. Variable:</th>         <td>SPY</td>        <th>  R-squared:         </th>  <td>   0.000</td> \n",
       "</tr>\n",
       "<tr>\n",
       "  <th>Mean Model:</th>       <td>Constant Mean</td>   <th>  Adj. R-squared:    </th>  <td>   0.000</td> \n",
       "</tr>\n",
       "<tr>\n",
       "  <th>Vol Model:</th>            <td>GARCH</td>       <th>  Log-Likelihood:    </th> <td>  -1794.80</td>\n",
       "</tr>\n",
       "<tr>\n",
       "  <th>Distribution:</th>        <td>Normal</td>       <th>  AIC:               </th> <td>   3597.61</td>\n",
       "</tr>\n",
       "<tr>\n",
       "  <th>Method:</th>        <td>Maximum Likelihood</td> <th>  BIC:               </th> <td>   3618.08</td>\n",
       "</tr>\n",
       "<tr>\n",
       "  <th></th>                        <td></td>          <th>  No. Observations:  </th>    <td>1236</td>   \n",
       "</tr>\n",
       "<tr>\n",
       "  <th>Date:</th>           <td>Sun, Dec 01 2024</td>  <th>  Df Residuals:      </th>    <td>1235</td>   \n",
       "</tr>\n",
       "<tr>\n",
       "  <th>Time:</th>               <td>15:56:22</td>      <th>  Df Model:          </th>      <td>1</td>    \n",
       "</tr>\n",
       "</table>\n",
       "<table class=\"simpletable\">\n",
       "<caption>Mean Model</caption>\n",
       "<tr>\n",
       "   <td></td>     <th>coef</th>     <th>std err</th>      <th>t</th>       <th>P>|t|</th>    <th>95.0% Conf. Int.</th>  \n",
       "</tr>\n",
       "<tr>\n",
       "  <th>mu</th> <td>    0.0961</td> <td>2.547e-02</td> <td>    3.774</td> <td>1.604e-04</td> <td>[4.620e-02,  0.146]</td>\n",
       "</tr>\n",
       "</table>\n",
       "<table class=\"simpletable\">\n",
       "<caption>Volatility Model</caption>\n",
       "<tr>\n",
       "      <td></td>        <th>coef</th>     <th>std err</th>      <th>t</th>       <th>P>|t|</th>     <th>95.0% Conf. Int.</th>   \n",
       "</tr>\n",
       "<tr>\n",
       "  <th>omega</th>    <td>    0.0477</td> <td>1.798e-02</td> <td>    2.654</td> <td>7.953e-03</td> <td>[1.248e-02,8.296e-02]</td>\n",
       "</tr>\n",
       "<tr>\n",
       "  <th>alpha[1]</th> <td>    0.1568</td> <td>3.542e-02</td> <td>    4.426</td> <td>9.601e-06</td>  <td>[8.735e-02,  0.226]</td> \n",
       "</tr>\n",
       "<tr>\n",
       "  <th>beta[1]</th>  <td>    0.8113</td> <td>3.998e-02</td> <td>   20.290</td> <td>1.566e-91</td>   <td>[  0.733,  0.890]</td>  \n",
       "</tr>\n",
       "</table><br/><br/>Covariance estimator: robust"
      ],
      "text/latex": [
       "\\begin{center}\n",
       "\\begin{tabular}{lclc}\n",
       "\\toprule\n",
       "\\textbf{Dep. Variable:} &        SPY         & \\textbf{  R-squared:         } &     0.000   \\\\\n",
       "\\textbf{Mean Model:}    &   Constant Mean    & \\textbf{  Adj. R-squared:    } &     0.000   \\\\\n",
       "\\textbf{Vol Model:}     &       GARCH        & \\textbf{  Log-Likelihood:    } &   -1794.80  \\\\\n",
       "\\textbf{Distribution:}  &       Normal       & \\textbf{  AIC:               } &    3597.61  \\\\\n",
       "\\textbf{Method:}        & Maximum Likelihood & \\textbf{  BIC:               } &    3618.08  \\\\\n",
       "\\textbf{}               &                    & \\textbf{  No. Observations:  } &    1236     \\\\\n",
       "\\textbf{Date:}          &  Sun, Dec 01 2024  & \\textbf{  Df Residuals:      } &    1235     \\\\\n",
       "\\textbf{Time:}          &      15:56:22      & \\textbf{  Df Model:          } &     1       \\\\\n",
       "\\bottomrule\n",
       "\\end{tabular}\n",
       "\\begin{tabular}{lccccc}\n",
       "            & \\textbf{coef} & \\textbf{std err} & \\textbf{t} & \\textbf{P$> |$t$|$} & \\textbf{95.0\\% Conf. Int.}  \\\\\n",
       "\\midrule\n",
       "\\textbf{mu} &       0.0961  &    2.547e-02     &     3.774  &      1.604e-04       &    [4.620e-02,  0.146]      \\\\\n",
       "                  & \\textbf{coef} & \\textbf{std err} & \\textbf{t} & \\textbf{P$> |$t$|$} & \\textbf{95.0\\% Conf. Int.}  \\\\\n",
       "\\midrule\n",
       "\\textbf{omega}    &       0.0477  &    1.798e-02     &     2.654  &      7.953e-03       &   [1.248e-02,8.296e-02]     \\\\\n",
       "\\textbf{alpha[1]} &       0.1568  &    3.542e-02     &     4.426  &      9.601e-06       &    [8.735e-02,  0.226]      \\\\\n",
       "\\textbf{beta[1]}  &       0.8113  &    3.998e-02     &    20.290  &      1.566e-91       &     [  0.733,  0.890]       \\\\\n",
       "\\bottomrule\n",
       "\\end{tabular}\n",
       "%\\caption{Constant Mean - GARCH Model Results}\n",
       "\\end{center}\n",
       "\n",
       "Covariance estimator: robust"
      ],
      "text/plain": [
       "<class 'statsmodels.iolib.summary.Summary'>\n",
       "\"\"\"\n",
       "                     Constant Mean - GARCH Model Results                      \n",
       "==============================================================================\n",
       "Dep. Variable:                    SPY   R-squared:                       0.000\n",
       "Mean Model:             Constant Mean   Adj. R-squared:                  0.000\n",
       "Vol Model:                      GARCH   Log-Likelihood:               -1794.80\n",
       "Distribution:                  Normal   AIC:                           3597.61\n",
       "Method:            Maximum Likelihood   BIC:                           3618.08\n",
       "                                        No. Observations:                 1236\n",
       "Date:                Sun, Dec 01 2024   Df Residuals:                     1235\n",
       "Time:                        15:56:22   Df Model:                            1\n",
       "                                Mean Model                                \n",
       "==========================================================================\n",
       "                 coef    std err          t      P>|t|    95.0% Conf. Int.\n",
       "--------------------------------------------------------------------------\n",
       "mu             0.0961  2.547e-02      3.774  1.604e-04 [4.620e-02,  0.146]\n",
       "                              Volatility Model                              \n",
       "============================================================================\n",
       "                 coef    std err          t      P>|t|      95.0% Conf. Int.\n",
       "----------------------------------------------------------------------------\n",
       "omega          0.0477  1.798e-02      2.654  7.953e-03 [1.248e-02,8.296e-02]\n",
       "alpha[1]       0.1568  3.542e-02      4.426  9.601e-06   [8.735e-02,  0.226]\n",
       "beta[1]        0.8113  3.998e-02     20.290  1.566e-91     [  0.733,  0.890]\n",
       "============================================================================\n",
       "\n",
       "Covariance estimator: robust\n",
       "\"\"\""
      ]
     },
     "execution_count": 20,
     "metadata": {},
     "output_type": "execute_result"
    }
   ],
   "source": [
    "fitted_model_garch.summary()"
   ]
  }
 ],
 "metadata": {
  "kaggle": {
   "accelerator": "none",
   "dataSources": [
    {
     "datasetId": 6199135,
     "sourceId": 10059721,
     "sourceType": "datasetVersion"
    }
   ],
   "dockerImageVersionId": 30749,
   "isGpuEnabled": false,
   "isInternetEnabled": true,
   "language": "python",
   "sourceType": "notebook"
  },
  "kernelspec": {
   "display_name": "Python 3",
   "language": "python",
   "name": "python3"
  },
  "language_info": {
   "codemirror_mode": {
    "name": "ipython",
    "version": 3
   },
   "file_extension": ".py",
   "mimetype": "text/x-python",
   "name": "python",
   "nbconvert_exporter": "python",
   "pygments_lexer": "ipython3",
   "version": "3.10.13"
  },
  "papermill": {
   "default_parameters": {},
   "duration": 21.234619,
   "end_time": "2024-12-01T15:56:23.326235",
   "environment_variables": {},
   "exception": null,
   "input_path": "__notebook__.ipynb",
   "output_path": "__notebook__.ipynb",
   "parameters": {},
   "start_time": "2024-12-01T15:56:02.091616",
   "version": "2.5.0"
  }
 },
 "nbformat": 4,
 "nbformat_minor": 5
}
